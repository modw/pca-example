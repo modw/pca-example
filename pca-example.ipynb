{
 "cells": [
  {
   "cell_type": "markdown",
   "metadata": {},
   "source": [
    "## Importing libraries"
   ]
  },
  {
   "cell_type": "code",
   "execution_count": 18,
   "metadata": {},
   "outputs": [],
   "source": [
    "import numpy as np\n",
    "import matplotlib.pyplot as plt\n",
    "from sklearn.decomposition import PCA\n",
    "from mpl_toolkits.mplot3d import Axes3D\n",
    "import seaborn as sns\n",
    "import healpy as hp #for 3d rotation\n",
    "\n",
    "sns.set_context(\"poster\")\n",
    "import scatter_plot_matrix as spm \n",
    "#see https://marcioodwyer.wordpress.com/2019/01/03/my-python-class-to-plot-correlated-variables/\n",
    "\n",
    "%matplotlib inline"
   ]
  },
  {
   "cell_type": "markdown",
   "metadata": {},
   "source": [
    "## Functions to generated data and plot projections"
   ]
  },
  {
   "cell_type": "code",
   "execution_count": 19,
   "metadata": {},
   "outputs": [],
   "source": [
    "def rotate_vector(vec):\n",
    "    \"\"\"Function to simulate data from random \n",
    "    camera angle to observe oscillator\"\"\"\n",
    "    a, b, c = np.random.uniform(-np.pi,np.pi,3)\n",
    "    rotmat = hp.rotator.get_rotation_matrix((a,b,c))[0]\n",
    "    return hp.rotator.rotateVector(rotmat, vec)\n",
    "\n",
    "def scatter_3d(X):\n",
    "    \"\"\" Makes 3d scatter plot of the oscillator\n",
    "    measurements\"\"\"\n",
    "    fig = plt.figure(figsize=(17,17))\n",
    "    ax = fig.add_subplot(111, projection='3d')\n",
    "    ax.scatter(X[0], X[1], X[2], s=10, c='k')\n",
    "    \n",
    "    \n",
    "    ax.set_xlabel('x')\n",
    "    ax.set_ylabel('y')\n",
    "    ax.set_zlabel('z')\n",
    "    \n",
    "    lim=1.5\n",
    "    ax.set_xlim(-lim,lim)\n",
    "    ax.set_ylim(-lim,lim)\n",
    "    ax.set_zlim(-lim,lim)\n",
    "\n",
    "    plt.show()\n",
    "    return\n",
    "\n",
    "def scatter_2d_proj(X):\n",
    "    \"\"\"Make side-by-side plots of each plane projection.\"\"\"\n",
    "    fig, axes = plt.subplots(1,3,figsize=(17,5))\n",
    "    axes[0].scatter(X[0], X[1], color='k', s=5)\n",
    "    axes[0].set_xlabel('x')\n",
    "    axes[0].set_ylabel('y')\n",
    "    axes[1].scatter(X[0], X[2], color='k', s=5)\n",
    "    axes[1].set_xlabel('x')\n",
    "    axes[1].set_ylabel('z')\n",
    "    axes[2].scatter(X[1], X[2], color='k', s=5)\n",
    "    axes[2].set_xlabel('y')\n",
    "    axes[2].set_ylabel('z')\n",
    "    for ax in axes:\n",
    "        lim = 1.5\n",
    "        ax.set_xlim(-lim,lim)\n",
    "        ax.set_ylim(-lim,lim) \n",
    "    plt.subplots_adjust(wspace=.45)\n",
    "    plt.show()\n",
    "    return\n",
    "    \n",
    "\n",
    "def draw_data(n):\n",
    "    \"\"\"Simulate measuring the oscillator\"\"\"\n",
    "    #time sampling\n",
    "    t0 = np.random.uniform(0,10, n) \n",
    "    # position of oscilattor\n",
    "    x0 = np.cos(t0)\n",
    "    # noise\n",
    "    sigma = .1\n",
    "    x0 += np.random.normal(scale=sigma, size=len(x0))\n",
    "    y0 = np.random.normal(scale=sigma, size=len(x0))\n",
    "    z0 = np.random.normal(scale=sigma, size=len(x0))\n",
    "\n",
    "    X0 = np.vstack((x0,y0,z0))\n",
    "    # randomly rotate \"camera\"\n",
    "    X = rotate_vector(X0)\n",
    "    # returns original and rotated\n",
    "    return X0, X"
   ]
  },
  {
   "cell_type": "markdown",
   "metadata": {},
   "source": [
    "## Simulating and visualizing data"
   ]
  },
  {
   "cell_type": "code",
   "execution_count": 11,
   "metadata": {},
   "outputs": [
    {
     "name": "stdout",
     "output_type": "stream",
     "text": [
      "Data matrix has dimensions (3, 300)\n"
     ]
    }
   ],
   "source": [
    "n = 300 #measurements\n",
    "X0, X = draw_data(n) #original and rotated data\n",
    "print(\"Data matrix has dimensions\",X.shape)"
   ]
  },
  {
   "cell_type": "code",
   "execution_count": 12,
   "metadata": {},
   "outputs": [
    {
     "data": {
      "image/png": "[encoded data removed]",
      "text/plain": [
       "<Figure size 1224x360 with 3 Axes>"
      ]
     },
     "metadata": {},
     "output_type": "display_data"
    }
   ],
   "source": [
    "scatter_2d_proj(X0)"
   ]
  },
  {
   "cell_type": "code",
   "execution_count": null,
   "metadata": {},
   "outputs": [],
   "source": []
  },
  {
   "cell_type": "code",
   "execution_count": null,
   "metadata": {},
   "outputs": [],
   "source": []
  }
 ],
 "metadata": {
  "kernelspec": {
   "display_name": "Python 3",
   "language": "python",
   "name": "python3"
  },
  "language_info": {
   "codemirror_mode": {
    "name": "ipython",
    "version": 3
   },
   "file_extension": ".py",
   "mimetype": "text/x-python",
   "name": "python",
   "nbconvert_exporter": "python",
   "pygments_lexer": "ipython3",
   "version": "3.6.5"
  }
 },
 "nbformat": 4,
 "nbformat_minor": 2
}
